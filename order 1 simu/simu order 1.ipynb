{
 "cells": [
  {
   "cell_type": "markdown",
   "id": "288c64e5",
   "metadata": {},
   "source": [
    "# 一阶线性时不变系统模拟\n",
    "\n",
    "模拟一个在道路上运行的小车，小车仅受到重力，地面的支持力，地面向后的摩擦力和向前的动力。"
   ]
  },
  {
   "cell_type": "code",
   "execution_count": 2,
   "id": "1fa1fcdb",
   "metadata": {},
   "outputs": [],
   "source": [
    "import numpy as np\n",
    "import pandas as pd"
   ]
  },
  {
   "cell_type": "code",
   "execution_count": 3,
   "id": "4dcb896a",
   "metadata": {},
   "outputs": [],
   "source": [
    "m = 1000  # 小车的质量\n",
    "\n",
    "u = 0.1  # 摩擦系数\n",
    "\n",
    "dt = 0.01  # 最小单位时间\n",
    "\n",
    "def get_friction(m_car=m, friction_coefficient=u, g=0.98) -> float:\n",
    "    return m_car * g * friction_coefficient\n",
    "\n",
    "def get_speed_from_motion_force(last_speed: float, motion_force: float, m_car=m) -> float:\n",
    "    force = motion_force - get_friction()\n",
    "    speed = last_speed - force / m_car * dt\n",
    "    return 0 if speed < 0 else speed\n",
    "\n",
    "def get_force_from_power_and_speed(power: float, speed: float):\n",
    "    return power / speed\n",
    "\n",
    "def get_position_by_speed(last_pos: float, speed: float) -> float:\n",
    "    return last_pos + dt * speed\n",
    "\n",
    "def get_position_by_motion_force(last_pos: float, last_speed: float, motion_force: float, m_car=m) -> float:\n",
    "    speed = get_speed_from_motion_force(last_speed, motion_force, m_car)\n",
    "    return get_position_by_speed(last_pos, speed)\n",
    "\n",
    "def get_position_by_power(last_pos: float, last_speed: float, power: float, m_car=m) -> float:\n",
    "    force = get_force_from_power_and_speed(power, last_speed)\n",
    "    return get_position_by_motion_force(last_pos, last_speed, force, m_car)"
   ]
  },
  {
   "cell_type": "code",
   "execution_count": null,
   "id": "114dfa23",
   "metadata": {},
   "outputs": [],
   "source": []
  }
 ],
 "metadata": {
  "kernelspec": {
   "display_name": "Python 3 (ipykernel)",
   "language": "python",
   "name": "python3"
  },
  "language_info": {
   "codemirror_mode": {
    "name": "ipython",
    "version": 3
   },
   "file_extension": ".py",
   "mimetype": "text/x-python",
   "name": "python",
   "nbconvert_exporter": "python",
   "pygments_lexer": "ipython3",
   "version": "3.11.3"
  }
 },
 "nbformat": 4,
 "nbformat_minor": 5
}
